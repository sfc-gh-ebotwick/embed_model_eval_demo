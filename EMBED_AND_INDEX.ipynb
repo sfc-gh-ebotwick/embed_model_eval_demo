{
 "metadata": {
  "kernelspec": {
   "display_name": "Streamlit Notebook",
   "name": "streamlit"
  },
  "lastEditStatus": {
   "notebookId": "sbelpqpbbheucpxdnvjx",
   "authorId": "5095547476787",
   "authorName": "EBOTWICK",
   "authorEmail": "elliott.botwick@snowflake.com",
   "sessionId": "c0c7fea1-8248-4398-b7a6-bd4718c0eb9e",
   "lastEditTime": 1761669644686
  }
 },
 "nbformat_minor": 5,
 "nbformat": 4,
 "cells": [
  {
   "cell_type": "code",
   "id": "3775908f-ca36-4846-8f38-5adca39217f2",
   "metadata": {
    "language": "python",
    "name": "create_session"
   },
   "source": "# Import python packages\nimport streamlit as st\nimport pandas as pd\n\n# We can also use Snowpark for our analyses!\nfrom snowflake.snowpark.context import get_active_session\nsession = get_active_session()\n",
   "execution_count": null,
   "outputs": []
  },
  {
   "cell_type": "code",
   "id": "96cd1e36-d0e7-49d4-8497-37ac9878df65",
   "metadata": {
    "language": "python",
    "name": "pip_installs",
    "collapsed": true,
    "codeCollapsed": false
   },
   "outputs": [],
   "source": "!pip install openai",
   "execution_count": null
  },
  {
   "cell_type": "code",
   "id": "7c6b64d4-ec9b-4dcd-9045-997c6aa5cce2",
   "metadata": {
    "language": "python",
    "name": "oai_api_key",
    "collapsed": false,
    "codeCollapsed": false
   },
   "outputs": [],
   "source": "oai_key = '<YOUR OAI KEY HERE>'\nprint('Stored API key in *oai_key* var')",
   "execution_count": null
  },
  {
   "cell_type": "code",
   "id": "e59e370e-8c52-4e7e-9661-0c81416230c9",
   "metadata": {
    "language": "python",
    "name": "test_oai_client"
   },
   "outputs": [],
   "source": "from openai import OpenAI\noai_client = OpenAI(api_key=oai_key)\n\nresponse = oai_client.embeddings.create(\n    input=\"Some example text to embed\",\n    model=\"text-embedding-3-small\"\n)\n\nprint(response.data[0].embedding)",
   "execution_count": null
  },
  {
   "cell_type": "code",
   "id": "c77c48d0-d505-44eb-84a6-02f7df20d96e",
   "metadata": {
    "language": "python",
    "name": "read_in_data"
   },
   "outputs": [],
   "source": "df = session.table('TICKETS_DB.SUPPORT_SCHEMA.SUPPORT_CASES').to_pandas()\nprint(df.shape)\ndf.head(10)",
   "execution_count": null
  },
  {
   "cell_type": "code",
   "id": "8b75d77d-c97c-4ef9-bda0-ee42886517e1",
   "metadata": {
    "language": "sql",
    "name": "count_tokens"
   },
   "outputs": [],
   "source": "SELECT SUM(SNOWFLAKE.CORTEX.COUNT_TOKENS('llama3.1-70b', CASE_DETAILS)) from TICKETS_DB.SUPPORT_SCHEMA.SUPPORT_CASES;",
   "execution_count": null
  },
  {
   "cell_type": "code",
   "id": "db23aad6-714d-4ead-9c46-cd6d6f8ad613",
   "metadata": {
    "language": "python",
    "name": "generate_embeddings_as_needed"
   },
   "outputs": [],
   "source": "#If data already exists in table, retrieve it\ntry: \n    df = session.table('SUPPORT_TICKETS_OAI_EMBEDDINGS').to_pandas()\n    df[['CASE_DETAILS','OAI_EMBEDDING']][0:5]\n\n#Otherwise create embedings and write to table    \nexcept:\n    oai_embeddings = df.CASE_DETAILS.apply(lambda x: oai_client.embeddings.create(input=x,\n                                                                model=\"text-embedding-3-small\").data[0].embedding)\n\n    df['OAI_EMBEDDING'] = oai_embeddings\n    session.write_pandas(df, 'SUPPORT_TICKETS_OAI_EMBEDDINGS', auto_create_table=True)",
   "execution_count": null
  },
  {
   "cell_type": "code",
   "id": "02280ea3-f1fb-431d-89a6-cd6192e36d32",
   "metadata": {
    "language": "sql",
    "name": "create_search_service",
    "collapsed": false,
    "codeCollapsed": false
   },
   "outputs": [],
   "source": "CREATE OR REPLACE CORTEX SEARCH SERVICE SUPPORT_TICKET_SEARCH_OAI_EMBED\n  TEXT INDEXES CASE_DETAILS\n  VECTOR INDEXES OAI_EMB\n  ATTRIBUTES CATEGORY, CASE_TITLE\n  WAREHOUSE = LARGE\n  TARGET_LAG = '24 hours'\n  AS SELECT CASE_DETAILS, OAI_EMBEDDING::VECTOR(FLOAT,1536) as OAI_EMB, CATEGORY, CASE_TITLE FROM SUPPORT_TICKETS_OAI_EMBEDDINGS;",
   "execution_count": null
  },
  {
   "cell_type": "code",
   "id": "4e86ddaf-a04c-42ee-a2bc-7a67529f3765",
   "metadata": {
    "language": "python",
    "name": "query_oai_css"
   },
   "outputs": [],
   "source": "import os\nfrom snowflake.core import Root\nfrom snowflake.snowpark import Session\n\nroot = Root(session)\n\n# fetch service\nsearch_service_oai_embed = (root\n\t.databases[\"EMBEDDING_EVAL_DB\"]\n\t.schemas[\"DATA\"]\n\t.cortex_search_services[\"SUPPORT_TICKET_SEARCH_OAI_EMBED\"]\n)\n\n# query service\nuser_query = \"I had an issue with duplicate charges\"\n\nresp = search_service_oai_embed.search(\n    multi_index_query={\n        \"OAI_EMB\": [\n            {\"vector\": oai_client.embeddings.create(input=user_query,\n                                                model=\"text-embedding-3-small\").data[0].embedding}\n        ],\n    },\n\tcolumns=[\"CASE_DETAILS\", \"CATEGORY\", \"CASE_TITLE\"],\n\tlimit=10,\n)\nprint(f\"Query: {user_query}\")\nresults =  pd.DataFrame(resp.results)\nresults[sorted(results.columns, reverse=True)]",
   "execution_count": null
  },
  {
   "cell_type": "code",
   "id": "5d1cf7a2-96f7-43b7-bda1-df3281600b2e",
   "metadata": {
    "language": "sql",
    "name": "create_arctic_embed_search_service"
   },
   "outputs": [],
   "source": "CREATE OR REPLACE CORTEX SEARCH SERVICE SUPPORT_TICKET_SEARCH_ARCTIC_EMBED\n  ON CASE_DETAILS\n  ATTRIBUTES CATEGORY, CASE_TITLE\n  EMBEDDING_MODEL = 'snowflake-arctic-embed-l-v2.0'\n  WAREHOUSE = LARGE\n  TARGET_LAG = '24 hours'\n  AS SELECT CASE_DETAILS, CATEGORY, CASE_TITLE FROM SUPPORT_TICKETS_OAI_EMBEDDINGS;",
   "execution_count": null
  },
  {
   "cell_type": "code",
   "id": "bf2589f2-0d65-46e5-ab1f-4272a51a629a",
   "metadata": {
    "language": "python",
    "name": "query_arctic_css"
   },
   "outputs": [],
   "source": "search_service_arctic_embed = (root\n\t.databases[\"EMBEDDING_EVAL_DB\"]\n\t.schemas[\"DATA\"]\n\t.cortex_search_services[\"SUPPORT_TICKET_SEARCH_ARCTIC_EMBED\"]\n)\n\n# query service\nuser_query = \"I had an issue with duplicate charges\"\n\nresp = search_service_arctic_embed.search(\n    query = user_query,\n\tcolumns=[\"CASE_DETAILS\", \"CATEGORY\", \"CASE_TITLE\"],\n\tlimit=10,\n)\nprint(f\"Query: {user_query}\")\nresults =  pd.DataFrame(resp.results)\nresults[sorted(results.columns, reverse=True)]",
   "execution_count": null
  },
  {
   "cell_type": "code",
   "id": "b7096f99-8aa5-4758-a090-10336a934e04",
   "metadata": {
    "language": "python",
    "name": "sample_rag"
   },
   "outputs": [],
   "source": "from snowflake.cortex import complete\n\ncomplete('claude-4-sonnet', f'Use the following context to summarize issues with duplicate charges: {list(results.CASE_DETAILS)}')",
   "execution_count": null
  },
  {
   "cell_type": "markdown",
   "id": "5f5073ae-b929-4478-9790-9879cf7a48f3",
   "metadata": {
    "name": "archive_md",
    "collapsed": false
   },
   "source": "# ARCHIVE BELOW"
  },
  {
   "cell_type": "code",
   "id": "8716b97b-b564-4952-8f09-dacec2c0a467",
   "metadata": {
    "language": "python",
    "name": "cell2"
   },
   "outputs": [],
   "source": "case_sample = list(df.sample(n=100).CASE_DETAILS)\n\ncomplete('claude-4-sonnet', f'''Using the following support case descriptions - \n                        come up with 10 questions someone may ask where the answers are likely in the Case descriptions. \n                        Include some basic questions with easily found answers but also some trickier questions. \n                        \n                        Case Descriptions: {case_sample}''')",
   "execution_count": null
  },
  {
   "cell_type": "code",
   "id": "9d02d95e-f33b-433c-96d0-ae48fd1516f9",
   "metadata": {
    "language": "python",
    "name": "cell4"
   },
   "outputs": [],
   "source": "user_query = 'What should I do if my package shows as delivered but I never received it?'\n\ncontext = pd.DataFrame(search_service_arctic_embed.search(\n    query = user_query,\n\tcolumns=[\"CASE_DETAILS\"],\n\tlimit=3).results).CASE_DETAILS\n\ncomplete('claude-4-sonnet', f'''Use the following context to answer the users question.\n                                        user question : {user_query}\n                                        context: {list(context)}''')",
   "execution_count": null
  }
 ]
}